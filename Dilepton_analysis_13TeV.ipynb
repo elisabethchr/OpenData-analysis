{
 "cells": [
  {
   "cell_type": "code",
   "execution_count": 1,
   "metadata": {},
   "outputs": [],
   "source": [
    "/*************************************************\n",
    "\n",
    "Analysis of dilepton final state from 13TeV dataset\n",
    "\n",
    "*************************************************/\n",
    "\n",
    "#include <iostream>\n",
    "#include <fstream>\n",
    "#include <algorithm>"
   ]
  },
  {
   "cell_type": "markdown",
   "metadata": {},
   "source": [
    "Structure of OpenData (13TeV):\n",
    "- Data is stored in nTuples, i.e. 'trees'\n",
    "- One event = one entry in the tree\n",
    "- One variable = one 'branch' in the tree (branch = integers/floats/vectors/booleans etc.)\n",
    "- All events have the same branches\n",
    "\n",
    "\n",
    "TChain is used in order to link together data from several nTuples, i.e. it is a 'chain of trees'.\n",
    "Would typically like one chain for real data and one for MC (background)."
   ]
  },
  {
   "cell_type": "code",
   "execution_count": 2,
   "metadata": {},
   "outputs": [],
   "source": [
    "/*\n",
    "\n",
    "1. Reading the dataset\n",
    "\n",
    "*/\n",
    "\n",
    "TChain *background = new TChain(\"mini\");\n",
    "TChain *data = new TChain(\"mini\");\n",
    "\n",
    "TChain *background_testing = new TChain(\"mini\");"
   ]
  },
  {
   "cell_type": "code",
   "execution_count": 3,
   "metadata": {},
   "outputs": [],
   "source": [
    "TString sample; \n",
    "TString path; \n",
    "TString type;\n",
    "vector<Int_t> dataset_IDs;\n",
    "vector<TString> types;\n",
    "Int_t DSID;"
   ]
  },
  {
   "cell_type": "code",
   "execution_count": 4,
   "metadata": {},
   "outputs": [],
   "source": [
    "ifstream infile1(\"../Input/13TeV/dataset_test.txt\");\n",
    "\n",
    "string name ;"
   ]
  },
  {
   "cell_type": "code",
   "execution_count": 5,
   "metadata": {
    "scrolled": true
   },
   "outputs": [],
   "source": [
    "infile1.clear();\n",
    "infile1.seekg(0, ios::beg);  // Start at the beginning of the file\n",
    "\n",
    "background->Reset(); // Reset the TChain (if necessary)\n",
    "DSID = 0;\n",
    "\n",
    "//while (!infile.fail() && !infile.eof() ){\n",
    "while (infile1 >> sample >> DSID >> type){\n",
    "        path = \"../Input/13TeV/MC/\"+sample;\n",
    "        background->Add(path);\n",
    "        dataset_IDs.push_back(DSID);\n",
    "        types.push_back(type);\n",
    "}"
   ]
  },
  {
   "cell_type": "code",
   "execution_count": 6,
   "metadata": {},
   "outputs": [],
   "source": [
    "ifstream infile2(\"../Input/13TeV/dataset_data.txt\");"
   ]
  },
  {
   "cell_type": "code",
   "execution_count": 7,
   "metadata": {},
   "outputs": [],
   "source": [
    "data->Reset();\n",
    "infile2.clear();\n",
    "infile2.seekg(0, ios::beg);\n",
    "\n",
    "while (infile2 >> sample){\n",
    "        path = \"../Input/13TeV/Data/\"+sample;\n",
    "        data->Add(path);\n",
    "}"
   ]
  },
  {
   "cell_type": "code",
   "execution_count": 8,
   "metadata": {},
   "outputs": [],
   "source": [
    "// Add individual DSIDs to corresponding types\n",
    "vector<Int_t> Zjets, ttbar, Dibosons;"
   ]
  },
  {
   "cell_type": "code",
   "execution_count": 9,
   "metadata": {},
   "outputs": [],
   "source": [
    "Zjets.clear();\n",
    "ttbar.clear();\n",
    "Dibosons.clear();\n",
    "\n",
    "for(int j=0; j<types.size(); j++){\n",
    "    if (types[j] == \"Z+jets\"){Zjets.push_back(dataset_IDs[j]); }\n",
    "    else if (types[j] == \"ttbar\"){ttbar.push_back(dataset_IDs[j]); }\n",
    "    else if (types[j] == \"Dibosons\"){Dibosons.push_back(dataset_IDs[j]); }\n",
    "}\n"
   ]
  },
  {
   "cell_type": "code",
   "execution_count": 10,
   "metadata": {},
   "outputs": [],
   "source": [
    "// Assign branch variables to variables defined below\n",
    "\n",
    "Int_t lep_n;\n",
    "Int_t channelNumber;\n",
    "Float_t XSection, met_et, mcWeight, SumWeights;\n",
    "Bool_t trigE, trigM;\n",
    "Int_t lep_type1, lep_type2;\n",
    "vector<Int_t*> lep_type, lep_charge;\n",
    "vector<Float_t*> lep_pt, lep_E, lep_phi, lep_eta, lep_etcone20, lep_ptcone30;\n",
    "vector<Bool_t*> trigMatched, lep_isTightID;"
   ]
  },
  {
   "cell_type": "code",
   "execution_count": 11,
   "metadata": {},
   "outputs": [],
   "source": [
    "Float_t scaleFactor_PILEUP, scaleFactor_ELE, scaleFactor_MUON, scaleFactor_BTAG, scaleFactor_lepTRIGGER;"
   ]
  },
  {
   "cell_type": "code",
   "execution_count": 12,
   "metadata": {},
   "outputs": [],
   "source": [
    "// For MC:  \n",
    "background->SetBranchAddress(\"lep_n\",      &lep_n);\n",
    "background->SetBranchAddress(\"lep_charge\", &lep_charge);\n",
    "background->SetBranchAddress(\"lep_type\",   &lep_type);\n",
    "background->SetBranchAddress(\"lep_pt\",     &lep_pt);\n",
    "background->SetBranchAddress(\"lep_eta\",    &lep_eta);\n",
    "background->SetBranchAddress(\"lep_phi\",    &lep_phi);\n",
    "background->SetBranchAddress(\"lep_E\",      &lep_E);\n",
    "background->SetBranchAddress(\"met_et\",     &met_et); \n",
    "background->SetBranchAddress(\"channelNumber\", &channelNumber);\n",
    "background->SetBranchAddress(\"mcWeight\", &mcWeight);\n",
    "background->SetBranchAddress(\"scaleFactor_PILEUP\", &scaleFactor_PILEUP );\n",
    "background->SetBranchAddress(\"scaleFactor_ELE\", &scaleFactor_ELE ); \n",
    "background->SetBranchAddress(\"scaleFactor_MUON\", &scaleFactor_MUON ); \n",
    "background->SetBranchAddress(\"scaleFactor_BTAG\", &scaleFactor_BTAG );\n",
    "background->SetBranchAddress(\"scaleFactor_LepTRIGGER\", &scaleFactor_lepTRIGGER ); //found\n",
    "background->SetBranchAddress(\"lep_isTightID\", &lep_isTightID); //will return break->segment violation when running //found, why not largeRjet_tau32 for top-quark tagging (largeRjet = larger jets (R~1, 1.5?))\n",
    "background->SetBranchAddress(\"lep_ptcone30\", &lep_ptcone30); \n",
    "background->SetBranchAddress(\"lep_etcone20\", &lep_etcone20); \n",
    "background->SetBranchAddress(\"trigE\", &trigE); //ok\n",
    "background->SetBranchAddress(\"trigM\", &trigM); //ok\n",
    "background->SetBranchAddress(\"SumWeights\", &SumWeights); //new\n",
    "background->SetBranchAddress(\"XSection\", &XSection); //new\n",
    "//background->SetBranchAddress(\"jet_MV1\", &jet_MV1); //not present in 13TeV dataset\n",
    "\n",
    "// For data \n",
    "data->SetBranchAddress(\"lep_n\",      &lep_n);\n",
    "data->SetBranchAddress(\"lep_charge\", &lep_charge);\n",
    "data->SetBranchAddress(\"lep_type\",   &lep_type);\n",
    "data->SetBranchAddress(\"lep_pt\",     &lep_pt);\n",
    "data->SetBranchAddress(\"lep_eta\",    &lep_eta);\n",
    "data->SetBranchAddress(\"lep_phi\",    &lep_phi);\n",
    "data->SetBranchAddress(\"lep_E\",      &lep_E);\n",
    "data->SetBranchAddress(\"met_et\",     &met_et); \n",
    "data->SetBranchAddress(\"channelNumber\", &channelNumber);\n",
    "data->SetBranchAddress(\"trigE\", &trigE); \n",
    "data->SetBranchAddress(\"trigM\", &trigM);\n",
    "//data->SetBranchAddress(\"lep_trigMatched\", &lep_trigMatched); //will return break->segment violation when running (not used further down in code)\n",
    "data->SetBranchAddress(\"lep_isTightID\", &lep_isTightID); ////will return break->segment violation when running //found\n",
    "data->SetBranchAddress(\"lep_ptcone30\", &lep_ptcone30); //ok\n",
    "data->SetBranchAddress(\"lep_etcone20\", &lep_etcone20); //ok\n",
    "//data->SetBranchAddress(\"jet_MV1\", &jet_MV1); //not present in 13TeV dataset"
   ]
  },
  {
   "cell_type": "code",
   "execution_count": 13,
   "metadata": {},
   "outputs": [],
   "source": [
    "/*\n",
    "\n",
    "2. Analysis of data and obtaining the desired final states by cuts\n",
    "\n",
    "*/\n",
    "\n",
    "// Declaring map containing 1D histograms, in which each histogram contains values of type Int_t.\n",
    "map<Int_t, TH1*> hist_mll; \n",
    "map<Int_t, TH1*> hist_lep_pt; \n",
    "map<Int_t, TH1*> hist_met;\n",
    "\n",
    "// Assign element i to each DSID in dataset_IDs. E.g. dataset_IDs = {1, 2, 3, 4, ...} -> i = {0, 1, 2, 3, ...}\n",
    "// such that map of hist_mll contains multiple histograms each corresponding to unique tree/DSID (background file).\n",
    "for(const auto & i:dataset_IDs){\n",
    "    hist_mll[i] = new TH1F(); \n",
    "    hist_lep_pt[i] = new TH1F(); \n",
    "    hist_met[i] = new TH1F();\n",
    "}\n",
    "\n",
    "for(const auto & i:dataset_IDs){\n",
    "//    cout << i << endl;\n",
    "    hist_mll[i]->SetNameTitle(\"hist_mll\", \"Invariant mass\"); \n",
    "    hist_lep_pt[i]->SetNameTitle(\"hist_lep_pt\", \"Lepton pT\"); \n",
    "    hist_met[i]->SetNameTitle(\"hist_met\", \"Missing ET\");\n",
    "    hist_mll[i]->SetBins(20,0,500); \n",
    "    hist_lep_pt[i]->SetBins(20,0,1000);\n",
    "    hist_met[i]->SetBins(20,0,500); \n",
    "//    cout << i << endl;\n",
    "}"
   ]
  },
  {
   "cell_type": "code",
   "execution_count": 14,
   "metadata": {},
   "outputs": [],
   "source": [
    "hist_mll_d = new TH1F(); \n",
    "hist_lep_pt_d = new TH1F(); \n",
    "hist_met_d = new TH1F();"
   ]
  },
  {
   "cell_type": "code",
   "execution_count": 15,
   "metadata": {},
   "outputs": [],
   "source": [
    "hist_mll_d->SetNameTitle(\"hist_mll\", \"Invariant mass\"); \n",
    "hist_lep_pt_d->SetNameTitle(\"hist_lep_pt\", \"Lepton pT\"); \n",
    "hist_met_d->SetNameTitle(\"hist_met\", \"Missing ET\");\n",
    "hist_mll_d->SetBins(20,0,500); \n",
    "hist_lep_pt_d->SetBins(20,0,1000);\n",
    "hist_met_d->SetBins(20,0,500);"
   ]
  },
  {
   "cell_type": "code",
   "execution_count": 16,
   "metadata": {},
   "outputs": [],
   "source": [
    "TLorentzVector l1, l2, dileptons;"
   ]
  },
  {
   "cell_type": "code",
   "execution_count": 17,
   "metadata": {},
   "outputs": [],
   "source": [
    "TChain *dataset = new TChain(\"mini\");\n",
    "vector<Int_t> DSIDs;\n",
    "int isData; \n",
    "int nentries, nentries_testing;\n",
    "Float_t W; \n",
    "int zjets, Ttbar, dibosons, j;\n",
    "//int n_bjets, j, a, b, c, d, e, f, g, h, k, l, zjets, Ttbar, dibosons;\n",
    "Double_t L;   //Integrated luminosity\n",
    "\n",
    "L = 10000.; //pb\n",
    "DSIDs.push_back(0);\n",
    "j = zjets = Ttbar = dibosons = 0;\n",
    "//j = a = b = c = d = e = f = g = h = k = zjets = Ttbar = dibosons = 0;"
   ]
  },
  {
   "cell_type": "code",
   "execution_count": 18,
   "metadata": {},
   "outputs": [
    {
     "name": "stdout",
     "output_type": "stream",
     "text": [
      "Running over background...\n",
      "1 million events processed\n",
      "2 million events processed\n",
      "3 million events processed\n",
      "4 million events processed\n",
      "5 million events processed\n",
      "6 million events processed\n",
      "7 million events processed\n",
      "8 million events processed\n",
      "9 million events processed\n",
      "10 million events processed\n",
      "11 million events processed\n",
      "12 million events processed\n",
      "13 million events processed\n",
      "14 million events processed\n",
      "15 million events processed\n",
      "16 million events processed\n",
      "17 million events processed\n",
      "18 million events processed\n",
      "19 million events processed\n",
      "20 million events processed\n",
      "21 million events processed\n",
      "22 million events processed\n",
      "23 million events processed\n",
      "24 million events processed\n",
      "25 million events processed\n",
      "26 million events processed\n",
      "27 million events processed\n",
      "28 million events processed\n",
      "29 million events processed\n",
      "30 million events processed\n",
      "31 million events processed\n",
      "32 million events processed\n",
      "33 million events processed\n",
      "34 million events processed\n",
      "35 million events processed\n",
      "36 million events processed\n",
      "37 million events processed\n",
      "38 million events processed\n",
      "39 million events processed\n",
      "40 million events processed\n",
      "41 million events processed\n",
      "42 million events processed\n",
      "43 million events processed\n",
      "44 million events processed\n",
      "45 million events processed\n",
      "46 million events processed\n",
      "47 million events processed\n",
      "48 million events processed\n",
      "49 million events processed\n",
      "50 million events processed\n",
      "51 million events processed\n",
      "52 million events processed\n",
      "53 million events processed\n",
      "54 million events processed\n",
      "55 million events processed\n",
      "56 million events processed\n",
      "57 million events processed\n",
      "58 million events processed\n",
      "59 million events processed\n",
      "60 million events processed\n",
      "61 million events processed\n",
      "62 million events processed\n",
      "63 million events processed\n",
      "Running over data...\n",
      "1 million events processed\n",
      "2 million events processed\n",
      "3 million events processed\n",
      "4 million events processed\n",
      "5 million events processed\n",
      "6 million events processed\n",
      "7 million events processed\n",
      "8 million events processed\n",
      "9 million events processed\n",
      "10 million events processed\n",
      "11 million events processed\n",
      "12 million events processed\n",
      "Done!\n"
     ]
    }
   ],
   "source": [
    "// Reset histograms (in case you have filled them before) \n",
    "for(const auto & i:dataset_IDs){ \n",
    "    hist_mll[i]->Reset(); \n",
    "    hist_lep_pt[i]->Reset(); \n",
    "    hist_met[i]->Reset();\n",
    "}\n",
    "\n",
    "hist_mll_d->Reset(); \n",
    "hist_lep_pt_d->Reset(); \n",
    "hist_met_d->Reset(); \n",
    "\n",
    "\n",
    "// Loop through all events in background and data separately\n",
    "for(isData = 0; isData<2; isData++){\n",
    "    if(isData == 1){\n",
    "        nentries = data->GetEntries();\n",
    "        dataset = data;\n",
    "        cout << \"Running over data...\" << endl; \n",
    "    }\n",
    "    else {\n",
    "        nentries = background->GetEntries();\n",
    "        dataset = background;\n",
    "        cout << \"Running over background...\" << endl;\n",
    "    }\n",
    "\n",
    "    //running over all events within data and background\n",
    "    for (int i = 0; i < nentries; i++){    //i<nentries      \n",
    "        if(i%1000000 == 0 && i>0){ cout << i/1000000 << \" million events processed\" << endl;}\n",
    "\n",
    "        dataset->GetEntry(i); // We \"pull out\" the i'th entry in the chain. The variables are now \n",
    "                              // available through the names we have given them.\n",
    "        // Check:\n",
    "        \n",
    "       /*\n",
    "        if(i%1000000 == 0 && i>0){ cout << \"lep_n: \"<< lep_n << endl;}\n",
    "        if(i%1000000 == 0 && i>0){ cout << \"XSection: \" << XSection << endl;}\n",
    "        if(i%1000000 == 0 && i>0){ cout << \"channelNumber: \"<< channelNumber << endl;}\n",
    "        if(i%1000000 == 0 && i>0){ cout << \"lep_charge[0]: \" << *lep_charge[0] << \" lep_charge[1]: \" << *lep_charge[1] << endl;}\n",
    "        if(i%1000000 == 0 && i>0){ cout << \"lep_type[0]: \" << *lep_type[0] << \" lep_type[1]: \" << *lep_type[1] << endl;}\n",
    "        if(i%1000000 == 0 && i>0){ cout << \"lep_ptcone30[0]: \" << *lep_ptcone30[0] << \" lep_ptcone30[1]: \" << *lep_ptcone30[1] << endl;}\n",
    "        if(i%1000000 == 0 && i>0){ cout << \"lep_etcone20[0]: \" << *lep_etcone20[0] << \" lep_etcone20[1]: \" << *lep_etcone20[1] << endl;}\n",
    "        //if(i%1000000 == 0 && i>0){ cout << \"lep_isTightID[0]: \" << *lep_isTightID[0] << \" lep_isTightID[1]: \" << *lep_isTightID[1] << endl;}\n",
    "        if(i%1000000 == 0 && i>0){ cout << \"lep_pt[0]: \" << *lep_pt[0] << \" lep_pt[1]: \" << *lep_pt[1] << \"\\n\" << endl;}\n",
    "        */\n",
    "        \n",
    "        // Data quality cut\n",
    "        //if(trigM == 0 && trigE == 0){ continue; } \n",
    "        //l++;\n",
    "        \n",
    "        \n",
    "        // Cut #1: Require (exactly) 2 leptons\n",
    "        if(lep_n != 2){ continue; }\n",
    "        // Cut #2: Require opposite charge\n",
    "        if(*lep_charge[0] == *lep_charge[1]){ continue; }\n",
    "        // Cut #3: Require same flavour (2 electrons or 2 muons)\n",
    "        if(*lep_type[0] != *lep_type[1]){ continue; }\n",
    "\n",
    "        // Require \"good leptons\": \n",
    "        if(*lep_ptcone30[0]/(*lep_pt[0]) > 0.15 ){ continue; }\n",
    "        if( *lep_etcone20[0]/(*lep_pt[0]) > 0.15 ){ continue; }\n",
    "        if( *lep_pt[0]/1000.0 < 25 ){ continue; }  //25 GeV = standard cut for triggers for good accuracy\n",
    "\n",
    "        if( *lep_pt[1]/1000.0 < 25 ){ continue; }\n",
    "        if( *lep_etcone20[1]/(*lep_pt[1]) > 0.15 ){ continue; }\n",
    "        if( *lep_ptcone30[1]/(*lep_pt[1]) > 0.15 ){ continue; }\n",
    "\n",
    "//        if (!(lep_isTightID[1]) == true){continue;}\n",
    "//        if( !(lep_flag[1] & 512) ){ continue; }\n",
    "        \n",
    "        // If an event passes all criterias above then calculate invariant mass, pT and missing transverse E\n",
    "        \n",
    "        // Set Lorentz vectors: \n",
    "        l1.SetPtEtaPhiE(*lep_pt[0]/1000., *lep_eta[0], *lep_phi[0], *lep_E[0]/1000.);\n",
    "        l2.SetPtEtaPhiE(*lep_pt[1]/1000., *lep_eta[1], *lep_phi[1], *lep_E[1]/1000.);\n",
    "        // Variables are stored in the TTree with unit MeV, so we need to divide by 1000 \n",
    "        // to get GeV, which is a more practical and commonly used unit. \n",
    "\n",
    "        \n",
    "        dileptons = l1 + l2;\n",
    "        \n",
    "        if(isData == 1)\n",
    "        {\n",
    "            hist_mll_d->Fill(dileptons.M());\n",
    "            hist_lep_pt_d->Fill(l1.Pt());\n",
    "            hist_lep_pt_d->Fill(l2.Pt()); \n",
    "            hist_met_d->Fill(met_et/1000); \n",
    "        }\n",
    "               \n",
    "        else\n",
    "        {\n",
    "            j++;\n",
    "            DSIDs.push_back(channelNumber);\n",
    "            \n",
    "            if(std::find(Zjets.begin(), Zjets.end(), channelNumber) != Zjets.end()){zjets++; }\n",
    "            if(std::find(ttbar.begin(), ttbar.end(), channelNumber) != ttbar.end()){Ttbar++; }\n",
    "            if(std::find(Dibosons.begin(), Dibosons.end(), channelNumber) != Dibosons.end()){dibosons++; }\n",
    "\n",
    "            // Scaling\n",
    "            W = (XSection*L/SumWeights)*mcWeight*scaleFactor_PILEUP*scaleFactor_ELE*scaleFactor_MUON*scaleFactor_BTAG*scaleFactor_lepTRIGGER; // *scaleFactor_JVFSF*scaleFactor_ZVERTEX; \n",
    "            \n",
    "            hist_mll[channelNumber]->Fill(dileptons.M(), W);\n",
    "            hist_lep_pt[channelNumber]->Fill(l1.Pt(), W);\n",
    "            hist_lep_pt[channelNumber]->Fill(l2.Pt(), W);\n",
    "            hist_met[channelNumber]->Fill(met_et/1000, W);\n",
    "        }\n",
    "    }\n",
    "}\n",
    "cout << \"Done!\" << endl;"
   ]
  },
  {
   "cell_type": "code",
   "execution_count": 19,
   "metadata": {},
   "outputs": [
    {
     "name": "stdout",
     "output_type": "stream",
     "text": [
      "zjets: 1624514, ttbar: 24650, dibosons: 650102\n",
      "DSIDs size: 2299267\n"
     ]
    }
   ],
   "source": [
    "cout << \"zjets: \" << zjets << \", ttbar: \" << Ttbar << \", dibosons: \" << dibosons << endl;\n",
    "cout << \"DSIDs size: \" << DSIDs.size() <<  endl;"
   ]
  },
  {
   "cell_type": "code",
   "execution_count": 20,
   "metadata": {},
   "outputs": [],
   "source": [
    "/*\n",
    "\n",
    "3. Assign DSID histograms to corresponding background event histograms.\n",
    "\n",
    "Make a new set of histograms, each corresponding to the different background categories, instead of the unique\n",
    "dataset IDs. These histograms are made with the same range and binnings as above.\n",
    "*/\n",
    "map<TString, TH1*> H_mll; \n",
    "map<TString, TH1*> H_lep_pt;\n",
    "map<TString, TH1*> H_met;"
   ]
  },
  {
   "cell_type": "code",
   "execution_count": 21,
   "metadata": {},
   "outputs": [],
   "source": [
    "vector<TString> Backgrounds;"
   ]
  },
  {
   "cell_type": "code",
   "execution_count": 22,
   "metadata": {},
   "outputs": [],
   "source": [
    "// Must define the proper backgrounds for this dataset\n",
    "Backgrounds = {\"ttbar\", \"Dibosons\", \"Zjets\"};"
   ]
  },
  {
   "cell_type": "code",
   "execution_count": 23,
   "metadata": {},
   "outputs": [],
   "source": [
    "for(const auto & i:Backgrounds){\n",
    "//    cout << i << endl;\n",
    "    H_mll[i] = new TH1F();\n",
    "    H_lep_pt[i] = new TH1F(); \n",
    "    H_met[i] = new TH1F();\n",
    "}\n",
    "\n",
    "for(const auto i:Backgrounds){\n",
    "    H_mll[i]->Reset();\n",
    "    H_lep_pt[i]->Reset();\n",
    "    H_met[i]->Reset();\n",
    "}\n"
   ]
  },
  {
   "cell_type": "code",
   "execution_count": 24,
   "metadata": {},
   "outputs": [],
   "source": [
    "for(const auto & i:Backgrounds){\n",
    "    H_mll[i]->SetNameTitle(\"hist_mll\", \"Invariant mass\");\n",
    "    H_lep_pt[i]->SetNameTitle(\"hist_lep_pt\", \"Lepton pT\");\n",
    "    H_met[i]->SetNameTitle(\"hist_met\", \"Missing ET\");\n",
    "    H_mll[i]->SetBins(20,0,500); \n",
    "    H_lep_pt[i]->SetBins(20,0,1000);\n",
    "    H_met[i]->SetBins(20,0,500);\n",
    "}"
   ]
  },
  {
   "cell_type": "code",
   "execution_count": 25,
   "metadata": {},
   "outputs": [],
   "source": [
    "/*\n",
    "for(const auto i:Backgrounds){\n",
    "    H_mll[i]->Reset();\n",
    "    H_lep_pt[i]->Reset();\n",
    "    H_met[i]->Reset();\n",
    "}\n",
    "\n",
    "for (const auto & type:Background){\n",
    "    for(const auto & i:dataset_IDs){\n",
    "        if(std::find(type.begin(), type.end(), i) != type.end()){\n",
    "            H_mll[type]->Add(hist_mll[i]);\n",
    "            H_lep_pt[type]->Add(hist_lep_pt[i]);\n",
    "            H_met[type]->Add(hist_met[i]);\n",
    "        }\n",
    "        else{continue; }\n",
    "    }\n",
    "}\n",
    "*/"
   ]
  },
  {
   "cell_type": "code",
   "execution_count": 26,
   "metadata": {},
   "outputs": [
    {
     "name": "stdout",
     "output_type": "stream",
     "text": [
      "363356\n",
      "mll: 17699\n",
      "met: 17699\n",
      "lep_pt: 35398\n",
      "363358\n",
      "mll: 29928\n",
      "met: 29928\n",
      "lep_pt: 59856\n",
      "363359\n",
      "mll: 4\n",
      "met: 4\n",
      "lep_pt: 8\n",
      "363360\n",
      "mll: 10\n",
      "met: 10\n",
      "lep_pt: 20\n",
      "363490\n",
      "mll: 229302\n",
      "met: 229302\n",
      "lep_pt: 458604\n",
      "363491\n",
      "mll: 293000\n",
      "met: 293000\n",
      "lep_pt: 586000\n",
      "363492\n",
      "mll: 80159\n",
      "met: 80159\n",
      "lep_pt: 160318\n",
      "363493\n",
      "mll: 0\n",
      "met: 0\n",
      "lep_pt: 0\n"
     ]
    }
   ],
   "source": [
    "\n",
    "for(const auto i:Backgrounds){\n",
    "    H_mll[i]->Reset();\n",
    "    H_lep_pt[i]->Reset();\n",
    "    H_met[i]->Reset();\n",
    "}\n",
    "\n",
    "for(const auto i:dataset_IDs){\n",
    "    if(std::find(Zjets.begin(), Zjets.end(), i) != Zjets.end()){\n",
    "        H_mll[\"Zjets\"]->Add(hist_mll[i]);\n",
    "        H_lep_pt[\"Zjets\"]->Add(hist_lep_pt[i]);\n",
    "        H_met[\"Zjets\"]->Add(hist_met[i]);\n",
    "//        cout << \"Found \" << i << \" in Zjets\" << \"\\n\"; \n",
    "    }\n",
    "    else if(std::find(ttbar.begin(), ttbar.end(), i) != ttbar.end()){\n",
    "        H_mll[\"ttbar\"]->Add(hist_mll[i]); \n",
    "        H_lep_pt[\"ttbar\"]->Add(hist_lep_pt[i]);\n",
    "        H_met[\"ttbar\"]->Add(hist_met[i]);\n",
    "//        cout << \"Found \" << i << \" in ttbar\" << \"\\n\"; \n",
    "    }\n",
    "    else if(std::find(Dibosons.begin(), Dibosons.end(), i) != Dibosons.end()){\n",
    "        H_mll[\"Dibosons\"]->Add(hist_mll[i]); \n",
    "        H_lep_pt[\"Dibosons\"]->Add(hist_lep_pt[i]);\n",
    "        H_met[\"Dibosons\"]->Add(hist_met[i]);\n",
    "        cout << i << endl;\n",
    "        cout << \"mll: \" << hist_mll[i]->GetEntries() << endl;\n",
    "        cout << \"met: \" << hist_met[i]->GetEntries() << endl;\n",
    "        cout << \"lep_pt: \" << hist_lep_pt[i]->GetEntries() << endl;\n",
    "        //        cout << \"Found \" << i << \" in Dibosons\" << \"\\n\";  \n",
    "    }\n",
    "}\n"
   ]
  },
  {
   "cell_type": "code",
   "execution_count": 27,
   "metadata": {},
   "outputs": [],
   "source": [
    "//Making new map containing the colours wanted for each background process, and set the colours of the histogram\n",
    "\n",
    "map<TString, Int_t> colors;\n",
    "\n",
    "colors[\"Dibosons\"] = kGreen; \n",
    "colors[\"Zjets\"] = kYellow; \n",
    "colors[\"ttbar\"] = kRed;\n",
    "\n",
    "for(const auto h:Backgrounds){\n",
    "    H_mll[h]->SetFillColor(colors[h]); \n",
    "    H_met[h]->SetFillColor(colors[h]);\n",
    "    H_lep_pt[h]->SetFillColor(colors[h]);\n",
    "    \n",
    "    H_mll[h]->SetLineColor(colors[h]); \n",
    "    H_met[h]->SetLineColor(colors[h]);\n",
    "    H_lep_pt[h]->SetLineColor(colors[h]);\n",
    "}"
   ]
  },
  {
   "cell_type": "code",
   "execution_count": 28,
   "metadata": {},
   "outputs": [],
   "source": [
    "/*\n",
    "\n",
    "4. Stack and plot the histograms\n",
    "\n",
    "For each variable we need to stack the backgrounds on top of each other, which is done by using the THStack class. \n",
    "In the example below we do this for two variables; invariant mass and missing ET.\n",
    "\n",
    "*/\n",
    "\n",
    "THStack *stack_mll = new THStack(\"Invariant mass\", \"\");\n",
    "THStack *stack_met = new THStack(\"Missing ET\", \"\"); \n",
    "THStack *stack_lep_pt = new THStack(\"Lepton pT\", \"\");\n",
    "\n",
    "for(const auto h:Backgrounds){\n",
    "    stack_mll->RecursiveRemove(H_mll[h]); // Remove previously stacked histograms  \n",
    "    stack_met->RecursiveRemove(H_met[h]);\n",
    "    stack_lep_pt->RecursiveRemove(H_lep_pt[h]);\n",
    "    stack_mll->Add(H_mll[h]); //Add new stacked histograms\n",
    "    stack_met->Add(H_met[h]);\n",
    "    stack_lep_pt->Add(H_lep_pt[h]); \n",
    "}\n"
   ]
  },
  {
   "cell_type": "code",
   "execution_count": 29,
   "metadata": {},
   "outputs": [],
   "source": [
    "gStyle->SetLegendBorderSize(0); // Remove (default) border around legend\n",
    "TLegend *leg = new TLegend(0.65, 0.60, 0.9, 0.85);"
   ]
  },
  {
   "cell_type": "code",
   "execution_count": 30,
   "metadata": {},
   "outputs": [],
   "source": [
    "leg->Clear();\n",
    "for(const auto i:Backgrounds){\n",
    "    leg->AddEntry(H_mll[i], i, \"f\");  // Add your histograms to the legend\n",
    "}\n",
    "leg->AddEntry(hist_mll_d, \"Data\", \"lep\");"
   ]
  },
  {
   "cell_type": "code",
   "execution_count": 31,
   "metadata": {},
   "outputs": [],
   "source": [
    "TCanvas *C = new TCanvas(\"c\", \"c\", 600, 600);\n",
    "gPad->SetLogy(); // Set logarithmic y-axis"
   ]
  },
  {
   "cell_type": "code",
   "execution_count": 32,
   "metadata": {},
   "outputs": [],
   "source": [
    "hist_mll_d->SetLineColor(kBlack);\n",
    "hist_mll_d->SetMarkerStyle(kFullCircle);\n",
    "hist_mll_d->SetMarkerColor(kBlack);"
   ]
  },
  {
   "cell_type": "code",
   "execution_count": 33,
   "metadata": {},
   "outputs": [
    {
     "data": {
      "image/png": "[encoded data removed]",
      "text/plain": [
       "<IPython.core.display.Image object>"
      ]
     },
     "metadata": {},
     "output_type": "display_data"
    }
   ],
   "source": [
    "stack_mll->Draw(\"hist\");\n",
    "stack_mll->SetMaximum(1E6);     //set maximum range on axis\n",
    "stack_mll->GetYaxis()->SetTitle(\"# events\");\n",
    "stack_mll->GetYaxis()->SetTitleOffset(1.3);\n",
    "stack_mll->GetXaxis()->SetTitle(\"m_{ll} (GeV)\");\n",
    "stack_mll->GetXaxis()->SetTitleOffset(1.3);\n",
    "hist_mll_d->Draw(\"same E\");\n",
    "leg->Draw();\n",
    "C->Draw();\n",
    "\n",
    "/*\n",
    "If there are less statistics, then it is more likely that the MC samples and real data will differ as \n",
    "MC predicts the amount of events one can expect at a certain range of e.g. m_ll. As long as the number of \n",
    "events of MC and real data do not differ too much at high statistics, e.g. 10^6 events,\n",
    "then MC is correct. If they do, then there is something wrong with the theory modelling the MC.\n",
    "*/"
   ]
  },
  {
   "cell_type": "code",
   "execution_count": 34,
   "metadata": {},
   "outputs": [],
   "source": [
    "hist_met_d->SetLineColor(kBlack);\n",
    "hist_met_d->SetMarkerStyle(kFullCircle);\n",
    "hist_met_d->SetMarkerColor(kBlack);"
   ]
  },
  {
   "cell_type": "code",
   "execution_count": 35,
   "metadata": {},
   "outputs": [
    {
     "data": {
      "image/png": "[encoded data removed]",
      "text/plain": [
       "<IPython.core.display.Image object>"
      ]
     },
     "metadata": {},
     "output_type": "display_data"
    }
   ],
   "source": [
    "stack_met->Draw(\"hist\"); \n",
    "stack_met->SetMaximum(1E6);\n",
    "stack_met->SetMinimum(1E-2); \n",
    "stack_met->GetYaxis()->SetTitle(\"# events\");\n",
    "stack_met->GetYaxis()->SetTitleOffset(1.3); \n",
    "stack_met->GetXaxis()->SetTitle(\"E_{T}^{miss} (GeV)\");\n",
    "stack_met->GetXaxis()->SetTitleOffset(1.3);\n",
    "hist_met_d->Draw(\"same e\");\n",
    "leg->Draw();\n",
    "C->Draw();\n",
    "\n",
    "/*\n",
    "Often more difficult to model E_miss\n",
    "*/"
   ]
  },
  {
   "cell_type": "code",
   "execution_count": 36,
   "metadata": {},
   "outputs": [],
   "source": [
    "hist_lep_pt_d->SetLineColor(kBlack); \n",
    "hist_lep_pt_d->SetMarkerStyle(kFullCircle); \n",
    "hist_lep_pt_d->SetMarkerColor(kBlack);"
   ]
  },
  {
   "cell_type": "code",
   "execution_count": 37,
   "metadata": {},
   "outputs": [
    {
     "data": {
      "image/png": "[encoded data removed]",
      "text/plain": [
       "<IPython.core.display.Image object>"
      ]
     },
     "metadata": {},
     "output_type": "display_data"
    }
   ],
   "source": [
    "stack_lep_pt->Draw(\"hist\"); \n",
    "stack_lep_pt->SetMaximum(1E6); \n",
    "stack_lep_pt->GetYaxis()->SetTitle(\"# events\");\n",
    "stack_lep_pt->GetYaxis()->SetTitleOffset(1.3); \n",
    "stack_lep_pt->GetXaxis()->SetTitle(\"p_{T} (GeV)\");\n",
    "stack_lep_pt->GetXaxis()->SetTitleOffset(1.3);\n",
    "hist_lep_pt_d->Draw(\"same e\"); \n",
    "leg->Draw();\n",
    "C->Draw();\n",
    "\n",
    "/*\n",
    "natural to also include ratio of events between data/MC --> Add another pad to the canvas including this!\n",
    "*/"
   ]
  },
  {
   "cell_type": "code",
   "execution_count": 38,
   "metadata": {},
   "outputs": [],
   "source": [
    "//cout << \"Dibosons H_met: \" << H_met.GetEntries() << \" entries\"<< endl;"
   ]
  },
  {
   "cell_type": "code",
   "execution_count": null,
   "metadata": {},
   "outputs": [],
   "source": []
  }
 ],
 "metadata": {
  "kernelspec": {
   "display_name": "ROOT C++",
   "language": "c++",
   "name": "root"
  },
  "language_info": {
   "codemirror_mode": "text/x-c++src",
   "file_extension": ".C",
   "mimetype": " text/x-c++src",
   "name": "c++"
  }
 },
 "nbformat": 4,
 "nbformat_minor": 2
}
