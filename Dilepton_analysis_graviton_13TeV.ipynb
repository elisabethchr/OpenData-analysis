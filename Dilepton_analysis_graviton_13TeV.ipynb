{
 "cells": [
  {
   "cell_type": "markdown",
   "metadata": {},
   "source": [
    "## Analysis of dilepton final state from ATLAS OpenData 13TeV dataset"
   ]
  },
  {
   "cell_type": "code",
   "execution_count": 1,
   "metadata": {},
   "outputs": [],
   "source": [
    "#include <iostream>\n",
    "#include <fstream>\n",
    "#include <algorithm>"
   ]
  },
  {
   "cell_type": "markdown",
   "metadata": {},
   "source": [
    "### Structure of OpenData (13TeV):\n",
    "- Data is stored in nTuples, i.e. 'trees'\n",
    "- One event = one entry in the tree\n",
    "- One variable = one 'branch' in the tree (branch = integers/floats/vectors/booleans etc.)\n",
    "- All events have the same branches\n",
    "\n",
    "\n",
    "TChain is used in order to link together data from several nTuples, i.e. it is a 'chain of trees'.\n",
    "Would typically like one chain for real data and one for MC (background)."
   ]
  },
  {
   "cell_type": "code",
   "execution_count": 2,
   "metadata": {},
   "outputs": [],
   "source": [
    "/*\n",
    "\n",
    "1. Reading the dataset and obtaining header variables\n",
    "\n",
    "*/\n",
    "\n",
    "TChain *background = new TChain(\"mini\");\n",
    "TChain *data = new TChain(\"mini\");"
   ]
  },
  {
   "cell_type": "code",
   "execution_count": 3,
   "metadata": {},
   "outputs": [],
   "source": [
    "TString sample; \n",
    "TString path; \n",
    "TString type;\n",
    "vector<Int_t> dataset_IDs;\n",
    "vector<TString> types;\n",
    "Int_t DSID;"
   ]
  },
  {
   "cell_type": "code",
   "execution_count": 4,
   "metadata": {},
   "outputs": [],
   "source": [
    "ifstream infile1(\"../Input/13TeV/dataset_MCInput.txt\");\n",
    "\n",
    "string name ;"
   ]
  },
  {
   "cell_type": "code",
   "execution_count": 5,
   "metadata": {
    "scrolled": true
   },
   "outputs": [
    {
     "name": "stdout",
     "output_type": "stream",
     "text": [
      "mc_410000.ttbar_lep.2lep.root\n",
      "mc_364100.Zmumu_PTV0_70_CVetoBVeto.2lep.root\n",
      "mc_364101.Zmumu_PTV0_70_CFilterBVeto.2lep.root\n",
      "mc_364102.Zmumu_PTV0_70_BFilter.2lep.root\n",
      "mc_364103.Zmumu_PTV70_140_CVetoBVeto.2lep.root\n",
      "mc_364104.Zmumu_PTV70_140_CFilterBVeto.2lep.root\n",
      "mc_364105.Zmumu_PTV70_140_BFilter.2lep.root\n",
      "mc_364106.Zmumu_PTV140_280_CVetoBVeto.2lep.root\n",
      "mc_364107.Zmumu_PTV140_280_CFilterBVeto.2lep.root\n",
      "mc_364108.Zmumu_PTV140_280_BFilter.2lep.root\n",
      "mc_364109.Zmumu_PTV280_500_CVetoBVeto.2lep.root\n",
      "mc_364110.Zmumu_PTV280_500_CFilterBVeto.2lep.root\n",
      "mc_364111.Zmumu_PTV280_500_BFilter.2lep.root\n",
      "mc_364112.Zmumu_PTV500_1000.2lep.root\n",
      "mc_364113.Zmumu_PTV1000_E_CMS.2lep.root\n",
      "mc_364114.Zee_PTV0_70_CVetoBVeto.2lep.root\n",
      "mc_364115.Zee_PTV0_70_CFilterBVeto.2lep.root\n",
      "mc_364116.Zee_PTV0_70_BFilter.2lep.root\n",
      "mc_364117.Zee_PTV70_140_CVetoBVeto.2lep.root\n",
      "mc_364118.Zee_PTV70_140_CFilterBVeto.2lep.root\n",
      "mc_364119.Zee_PTV70_140_BFilter.2lep.root\n",
      "mc_364120.Zee_PTV140_280_CVetoBVeto.2lep.root\n",
      "mc_364121.Zee_PTV140_280_CFilterBVeto.2lep.root\n",
      "mc_364122.Zee_PTV140_280_BFilter.2lep.root\n",
      "mc_364123.Zee_PTV280_500_CVetoBVeto.2lep.root\n",
      "mc_364124.Zee_PTV280_500_CFilterBVeto.2lep.root\n",
      "mc_364125.Zee_PTV280_500_BFilter.2lep.root\n",
      "mc_364126.Zee_PTV500_1000.2lep.root\n",
      "mc_364127.Zee_PTV1000_E_CMS.2lep.root\n",
      "mc_364128.Ztautau_PTV0_70_CVetoBVeto.2lep.root\n",
      "mc_364129.Ztautau_PTV0_70_CFilterBVeto.2lep.root\n",
      "mc_364130.Ztautau_PTV0_70_BFilter.2lep.root\n",
      "mc_364131.Ztautau_PTV70_140_CVetoBVeto.2lep.root\n",
      "mc_364132.Ztautau_PTV70_140_CFilterBVeto.2lep.root\n",
      "mc_364133.Ztautau_PTV70_140_BFilter.2lep.root\n",
      "mc_364134.Ztautau_PTV140_280_CVetoBVeto.2lep.root\n",
      "mc_364135.Ztautau_PTV140_280_CFilterBVeto.2lep.root\n",
      "mc_364136.Ztautau_PTV140_280_BFilter.2lep.root\n",
      "mc_364137.Ztautau_PTV280_500_CVetoBVeto.2lep.root\n",
      "mc_364138.Ztautau_PTV280_500_CFilterBVeto.2lep.root\n",
      "mc_364139.Ztautau_PTV280_500_BFilter.2lep.root\n",
      "mc_364140.Ztautau_PTV500_1000.2lep.root\n",
      "mc_364141.Ztautau_PTV1000_E_CMS.2lep.root\n",
      "mc_363356.ZqqZll.2lep.root\n",
      "mc_363358.WqqZll.2lep.root\n",
      "mc_363359.WpqqWmlv.2lep.root\n",
      "mc_363360.WplvWmqq.2lep.root\n",
      "mc_363490.llll.2lep.root\n",
      "mc_363491.lllv.2lep.root\n",
      "mc_363492.llvv.2lep.root\n",
      "mc_363493.lvvv.2lep.root\n",
      "mc_305550.Gee_01_750.2lep.root\n",
      "mc_305553.Gee_01_1000.2lep.root\n",
      "mc_305556.Gee_01_2000.2lep.root\n",
      "mc_305559.Gee_01_3000.2lep.root\n",
      "mc_305562.Gee_01_4000.2lep.root\n",
      "mc_305568.Gmumu_01_750.2lep.root\n",
      "mc_305571.Gmumu_01_1000.2lep.root\n",
      "mc_305574.Gmumu_01_2000.2lep.root\n",
      "mc_305577.Gmumu_01_3000.2lep.root\n"
     ]
    }
   ],
   "source": [
    "infile1.clear();\n",
    "infile1.seekg(0, ios::beg);  // Start at the beginning of the file\n",
    "\n",
    "background->Reset(); // Reset the TChain (if necessary)\n",
    "DSID = 0;\n",
    "\n",
    "//while (!infile.fail() && !infile.eof() ){\n",
    "while (infile1 >> sample >> DSID >> type){\n",
    "        path = \"../Input/13TeV/MC/\"+sample;\n",
    "        background->Add(path);\n",
    "        dataset_IDs.push_back(DSID);\n",
    "        types.push_back(type);\n",
    "        cout << sample << endl;\n",
    "}"
   ]
  },
  {
   "cell_type": "code",
   "execution_count": 6,
   "metadata": {},
   "outputs": [],
   "source": [
    "ifstream infile2(\"../Input/13TeV/dataset_dataInput.txt\");"
   ]
  },
  {
   "cell_type": "code",
   "execution_count": 7,
   "metadata": {},
   "outputs": [],
   "source": [
    "data->Reset();\n",
    "infile2.clear();\n",
    "infile2.seekg(0, ios::beg);\n",
    "\n",
    "while (infile2 >> sample){\n",
    "        path = \"../Input/13TeV/Data/\"+sample;\n",
    "        data->Add(path);\n",
    "}"
   ]
  },
  {
   "cell_type": "code",
   "execution_count": 8,
   "metadata": {},
   "outputs": [],
   "source": [
    "// Add individual DSIDs to corresponding types\n",
    "vector<Int_t> Zjets, ttbar, graviton, Zprime, Dibosons, tt;"
   ]
  },
  {
   "cell_type": "code",
   "execution_count": 9,
   "metadata": {},
   "outputs": [],
   "source": [
    "Zjets.clear();\n",
    "ttbar.clear();\n",
    "Dibosons.clear();\n",
    "graviton.clear();\n",
    "Zprime.clear();\n",
    "tt.clear();\n",
    "\n",
    "for(int j=0; j<types.size(); j++){\n",
    "    if (types[j] == \"Z+jets\"){Zjets.push_back(dataset_IDs[j]); }\n",
    "    else if (types[j] == \"ttbar\"){ttbar.push_back(dataset_IDs[j]); }\n",
    "    else if (types[j] == \"Graviton\"){graviton.push_back(dataset_IDs[j]); }\n",
    "    else if (types[j] == \"Zprime\"){Zprime.push_back(dataset_IDs[j]); }\n",
    "    else if (types[j] == \"Dibosons\"){Dibosons.push_back(dataset_IDs[j]); }\n",
    "    else if (types[j] == \"tt\"){tt.push_back(dataset_IDs[j]); }\n",
    "}"
   ]
  },
  {
   "cell_type": "code",
   "execution_count": 10,
   "metadata": {},
   "outputs": [],
   "source": [
    "// Assign branch variables to variables defined below\n",
    "\n",
    "Int_t lep_n;\n",
    "Int_t channelNumber;\n",
    "Float_t XSection, met_et, mcWeight, SumWeights;\n",
    "Bool_t trigE, trigM;\n",
    "vector<Int_t*> lep_type, lep_charge;\n",
    "vector<Float_t*> lep_pt, lep_E, lep_phi, lep_eta, lep_etcone20, lep_ptcone30, lep_z0, lep_trackd0pvunbiased, lep_tracksigd0pvunbiased;\n",
    "vector<Bool_t*> trigMatched, lep_isTightID;"
   ]
  },
  {
   "cell_type": "code",
   "execution_count": 11,
   "metadata": {},
   "outputs": [],
   "source": [
    "Float_t scaleFactor_PILEUP, scaleFactor_ELE, scaleFactor_MUON, scaleFactor_BTAG, scaleFactor_lepTRIGGER;"
   ]
  },
  {
   "cell_type": "code",
   "execution_count": 12,
   "metadata": {},
   "outputs": [],
   "source": [
    "// Obtain header variables\n",
    "\n",
    "// For MC:  \n",
    "background->SetBranchAddress(\"lep_n\",      &lep_n);\n",
    "background->SetBranchAddress(\"lep_charge\", &lep_charge);\n",
    "background->SetBranchAddress(\"lep_type\",   &lep_type);\n",
    "background->SetBranchAddress(\"lep_pt\",     &lep_pt);\n",
    "background->SetBranchAddress(\"lep_eta\",    &lep_eta);\n",
    "background->SetBranchAddress(\"lep_phi\",    &lep_phi);\n",
    "background->SetBranchAddress(\"lep_E\",      &lep_E);\n",
    "background->SetBranchAddress(\"met_et\",     &met_et); \n",
    "background->SetBranchAddress(\"channelNumber\", &channelNumber);\n",
    "background->SetBranchAddress(\"mcWeight\", &mcWeight);\n",
    "background->SetBranchAddress(\"scaleFactor_PILEUP\", &scaleFactor_PILEUP );\n",
    "background->SetBranchAddress(\"scaleFactor_ELE\", &scaleFactor_ELE ); \n",
    "background->SetBranchAddress(\"scaleFactor_MUON\", &scaleFactor_MUON ); \n",
    "background->SetBranchAddress(\"scaleFactor_BTAG\", &scaleFactor_BTAG );\n",
    "background->SetBranchAddress(\"scaleFactor_LepTRIGGER\", &scaleFactor_lepTRIGGER );\n",
    "background->SetBranchAddress(\"lep_isTightID\", &lep_isTightID); \n",
    "background->SetBranchAddress(\"lep_ptcone30\", &lep_ptcone30);\n",
    "background->SetBranchAddress(\"lep_etcone20\", &lep_etcone20);\n",
    "background->SetBranchAddress(\"trigE\", &trigE);\n",
    "background->SetBranchAddress(\"trigM\", &trigM);\n",
    "background->SetBranchAddress(\"SumWeights\", &SumWeights);\n",
    "background->SetBranchAddress(\"XSection\", &XSection); \n",
    "background->SetBranchAddress(\"lep_z0\", &lep_z0);\n",
    "background->SetBranchAddress(\"lep_trackd0pvunbiased\", &lep_trackd0pvunbiased);\n",
    "background->SetBranchAddress(\"lep_tracksigd0pvunbiased\", &lep_tracksigd0pvunbiased);\n",
    "\n",
    "// For data:\n",
    "data->SetBranchAddress(\"lep_n\",      &lep_n);\n",
    "data->SetBranchAddress(\"lep_charge\", &lep_charge);\n",
    "data->SetBranchAddress(\"lep_type\",   &lep_type);\n",
    "data->SetBranchAddress(\"lep_pt\",     &lep_pt);\n",
    "data->SetBranchAddress(\"lep_eta\",    &lep_eta);\n",
    "data->SetBranchAddress(\"lep_phi\",    &lep_phi);\n",
    "data->SetBranchAddress(\"lep_E\",      &lep_E);\n",
    "data->SetBranchAddress(\"met_et\",     &met_et); \n",
    "data->SetBranchAddress(\"channelNumber\", &channelNumber);\n",
    "data->SetBranchAddress(\"trigE\", &trigE); \n",
    "data->SetBranchAddress(\"trigM\", &trigM);\n",
    "data->SetBranchAddress(\"lep_isTightID\", &lep_isTightID);\n",
    "data->SetBranchAddress(\"lep_ptcone30\", &lep_ptcone30); \n",
    "data->SetBranchAddress(\"lep_etcone20\", &lep_etcone20);\n",
    "data->SetBranchAddress(\"lep_z0\", &lep_z0);\n",
    "data->SetBranchAddress(\"lep_trackd0pvunbiased\", &lep_trackd0pvunbiased);\n",
    "data->SetBranchAddress(\"lep_tracksigd0pvunbiased\", &lep_tracksigd0pvunbiased);\n"
   ]
  },
  {
   "cell_type": "code",
   "execution_count": 13,
   "metadata": {},
   "outputs": [],
   "source": [
    "/*\n",
    "\n",
    "2. Analysis of data and obtaining the desired final states by cuts\n",
    "\n",
    "*/\n",
    "\n",
    "// Declaring map containing 1D histograms, in which each histogram contains values of type Int_t\n",
    "map<Int_t, TH1*> hist_mll; \n",
    "map<Int_t, TH1*> hist_lep_pt; \n",
    "map<Int_t, TH1*> hist_met;\n",
    "\n",
    "// Assign each DSID in datasetIDs as a unique input element i in histograms\n",
    "for(const auto & i:dataset_IDs){\n",
    "    hist_mll[i] = new TH1F(); \n",
    "    hist_lep_pt[i] = new TH1F(); \n",
    "    hist_met[i] = new TH1F();\n",
    "}\n",
    "\n",
    "for(const auto & i:dataset_IDs){\n",
    "//    cout << i << endl;\n",
    "    hist_mll[i]->SetNameTitle(\"hist_mll\", \"Invariant mass\"); \n",
    "    hist_lep_pt[i]->SetNameTitle(\"hist_lep_pt\", \"Lepton pT\"); \n",
    "    hist_met[i]->SetNameTitle(\"hist_met\", \"Missing ET\");\n",
    "    hist_mll[i]->SetBins(50,0,5000); \n",
    "    hist_lep_pt[i]->SetBins(50,0,1000);\n",
    "    hist_met[i]->SetBins(50,0,5000); \n",
    "}"
   ]
  },
  {
   "cell_type": "code",
   "execution_count": 14,
   "metadata": {},
   "outputs": [],
   "source": [
    "// Create histograms for recorded data events\n",
    "hist_mll_d = new TH1F(); \n",
    "hist_lep_pt_d = new TH1F(); \n",
    "hist_met_d = new TH1F();"
   ]
  },
  {
   "cell_type": "code",
   "execution_count": 15,
   "metadata": {},
   "outputs": [],
   "source": [
    "hist_mll_d->SetNameTitle(\"hist_mll\", \"Invariant mass\");\n",
    "hist_lep_pt_d->SetNameTitle(\"hist_lep_pt\", \"Lepton pT\"); \n",
    "hist_met_d->SetNameTitle(\"hist_met\", \"Missing ET\");\n",
    "hist_mll_d->SetBins(50,0,5000); \n",
    "hist_lep_pt_d->SetBins(50,0,1000);\n",
    "hist_met_d->SetBins(50,0,5000);"
   ]
  },
  {
   "cell_type": "code",
   "execution_count": 16,
   "metadata": {},
   "outputs": [],
   "source": [
    "// Create histograms for signal + backgrounds events\n",
    "hist_mll_sb = new TH1F();\n",
    "hist_lep_pt_sb = new TH1F();\n",
    "hist_met_sb = new TH1F();"
   ]
  },
  {
   "cell_type": "code",
   "execution_count": 17,
   "metadata": {},
   "outputs": [],
   "source": [
    "hist_mll_sb->SetNameTitle(\"\", \"Invariant mass\"); \n",
    "hist_lep_pt_sb->SetNameTitle(\"hist_lep_pt\", \"Lepton pT\"); \n",
    "hist_met_sb->SetNameTitle(\"hist_met\", \"Missing ET\");\n",
    "hist_mll_sb->SetBins(50,0,5000); \n",
    "hist_lep_pt_sb->SetBins(50,0,1000);\n",
    "hist_met_sb->SetBins(50,0,5000);"
   ]
  },
  {
   "cell_type": "code",
   "execution_count": 18,
   "metadata": {},
   "outputs": [],
   "source": [
    "// Lorentz vectors for decay products\n",
    "TLorentzVector l1, l2, dileptons, l1temp, l2temp;"
   ]
  },
  {
   "cell_type": "code",
   "execution_count": 19,
   "metadata": {},
   "outputs": [],
   "source": [
    "TChain *dataset = new TChain(\"mini\");\n",
    "TString channel;\n",
    "vector<Int_t> DSIDs;// datasetIDs\n",
    "int isData; \n",
    "int nentries; //number of entries in each input file\n",
    "int zjets, Ttbar, dibosons, gravitons, zprime, j, Tt; // counters\n",
    "Float_t W; // weight\n",
    "Double_t L;   //Integrated luminosity\n",
    "\n",
    "L = 10000.; //pb\n",
    "DSIDs.push_back(0);\n",
    "j = zjets = Ttbar = gravitons = zprime = dibosons = Tt = 0;"
   ]
  },
  {
   "cell_type": "markdown",
   "metadata": {},
   "source": [
    "### Cuts for the individual lepton pairs:\n",
    "The primary vertex chosen is the one with the highest summed $p_T^2$ of tracks with transverse momentum $p_T > 0.5$GeV associated with the vertex.\n",
    "\n",
    "1. __Preselection and final cut requirements__:\n",
    "    - Require only 2 leptons in the final state\n",
    "    - Require same-flavour leptons\n",
    "    - Muon pair must have opposite charges\n",
    "    - Electron pair has no requirement on opposite charges due to the higher probability of charge misidentification for high $E_T$-electrons (if we had an opposite charge requirement).\n",
    "    \n",
    "\n",
    "2. __Reconstructed electrons must__\n",
    "   - have $E_T > 30$GeV\n",
    "   - have $|\\eta| < 2.47$ (in order to pass through the fine-granularity region of the EM calorimeter)\n",
    "   - be outside the range $1.37 < |\\eta| < 1.52$ (corresponding to the transition region between the barrel and endcap EM calorimeters)\n",
    "   - have $|z_0\\sin\\Theta| < 0.5$mm (in order to be consistent with the primary vertex along the beamline)\n",
    "   - have $|d_0/\\sigma(d_0)| < 5$ (in order to be consistent with the primary vertex transverse to the beamline)\n",
    "   \n",
    "\n",
    "3. __Reconstructed muons must__\n",
    "    - have $p_T > 30$GeV\n",
    "    - have $|\\eta| < 2.5$ (in order to pass through the fine-granularity region of the EM calorimeter)\n",
    "    - be outside the range $1.01 < |\\eta| < 1.1$ (corresponding to the transition region between the barrel and endcap EM calorimeters)\n",
    "    - have $|z_0\\sin\\Theta| < 0.5$mm (in order to be consistent with the primary vertex along the beamline)\n",
    "    - have $|d_0/\\sigma(d_0)| < 3$ (in order to be consistent with the primary vertex transverse to the beamline)"
   ]
  },
  {
   "cell_type": "code",
   "execution_count": 20,
   "metadata": {},
   "outputs": [
    {
     "name": "stdout",
     "output_type": "stream",
     "text": [
      "Running over background...\n",
      "Number entries: 63330475\n",
      "------------------------------------------\n",
      "1 million events processed\n",
      "------------------------------------------\n",
      "------------------------------------------\n",
      "2 million events processed\n",
      "------------------------------------------\n",
      "------------------------------------------\n",
      "3 million events processed\n",
      "------------------------------------------\n",
      "------------------------------------------\n",
      "4 million events processed\n",
      "------------------------------------------\n",
      "------------------------------------------\n",
      "5 million events processed\n",
      "------------------------------------------\n",
      "------------------------------------------\n",
      "6 million events processed\n",
      "------------------------------------------\n",
      "------------------------------------------\n",
      "7 million events processed\n",
      "------------------------------------------\n",
      "------------------------------------------\n",
      "8 million events processed\n",
      "------------------------------------------\n",
      "------------------------------------------\n",
      "9 million events processed\n",
      "------------------------------------------\n",
      "------------------------------------------\n",
      "10 million events processed\n",
      "------------------------------------------\n",
      "------------------------------------------\n",
      "11 million events processed\n",
      "------------------------------------------\n",
      "------------------------------------------\n",
      "12 million events processed\n",
      "------------------------------------------\n",
      "------------------------------------------\n",
      "13 million events processed\n",
      "------------------------------------------\n",
      "------------------------------------------\n",
      "14 million events processed\n",
      "------------------------------------------\n",
      "------------------------------------------\n",
      "15 million events processed\n",
      "------------------------------------------\n",
      "------------------------------------------\n",
      "16 million events processed\n",
      "------------------------------------------\n",
      "------------------------------------------\n",
      "17 million events processed\n",
      "------------------------------------------\n",
      "------------------------------------------\n",
      "18 million events processed\n",
      "------------------------------------------\n",
      "------------------------------------------\n",
      "19 million events processed\n",
      "------------------------------------------\n",
      "------------------------------------------\n",
      "20 million events processed\n",
      "------------------------------------------\n",
      "------------------------------------------\n",
      "21 million events processed\n",
      "------------------------------------------\n",
      "------------------------------------------\n",
      "22 million events processed\n",
      "------------------------------------------\n",
      "------------------------------------------\n",
      "23 million events processed\n",
      "------------------------------------------\n",
      "------------------------------------------\n",
      "24 million events processed\n",
      "------------------------------------------\n",
      "------------------------------------------\n",
      "25 million events processed\n",
      "------------------------------------------\n",
      "------------------------------------------\n",
      "26 million events processed\n",
      "------------------------------------------\n",
      "------------------------------------------\n",
      "27 million events processed\n",
      "------------------------------------------\n",
      "------------------------------------------\n",
      "28 million events processed\n",
      "------------------------------------------\n",
      "------------------------------------------\n",
      "29 million events processed\n",
      "------------------------------------------\n",
      "------------------------------------------\n",
      "30 million events processed\n",
      "------------------------------------------\n",
      "------------------------------------------\n",
      "31 million events processed\n",
      "------------------------------------------\n",
      "------------------------------------------\n",
      "32 million events processed\n",
      "------------------------------------------\n",
      "------------------------------------------\n",
      "33 million events processed\n",
      "------------------------------------------\n",
      "------------------------------------------\n",
      "34 million events processed\n",
      "------------------------------------------\n",
      "------------------------------------------\n",
      "35 million events processed\n",
      "------------------------------------------\n",
      "------------------------------------------\n",
      "36 million events processed\n",
      "------------------------------------------\n",
      "------------------------------------------\n",
      "37 million events processed\n",
      "------------------------------------------\n",
      "------------------------------------------\n",
      "38 million events processed\n",
      "------------------------------------------\n",
      "------------------------------------------\n",
      "39 million events processed\n",
      "------------------------------------------\n",
      "------------------------------------------\n",
      "40 million events processed\n",
      "------------------------------------------\n",
      "------------------------------------------\n",
      "41 million events processed\n",
      "------------------------------------------\n",
      "------------------------------------------\n",
      "42 million events processed\n",
      "------------------------------------------\n",
      "------------------------------------------\n",
      "43 million events processed\n",
      "------------------------------------------\n",
      "------------------------------------------\n",
      "44 million events processed\n",
      "------------------------------------------\n",
      "------------------------------------------\n",
      "45 million events processed\n",
      "------------------------------------------\n",
      "------------------------------------------\n",
      "46 million events processed\n",
      "------------------------------------------\n",
      "------------------------------------------\n",
      "47 million events processed\n",
      "------------------------------------------\n",
      "------------------------------------------\n",
      "48 million events processed\n",
      "------------------------------------------\n",
      "------------------------------------------\n",
      "49 million events processed\n",
      "------------------------------------------\n",
      "------------------------------------------\n",
      "50 million events processed\n",
      "------------------------------------------\n",
      "------------------------------------------\n",
      "51 million events processed\n",
      "------------------------------------------\n",
      "------------------------------------------\n",
      "52 million events processed\n",
      "------------------------------------------\n",
      "------------------------------------------\n",
      "53 million events processed\n",
      "------------------------------------------\n",
      "------------------------------------------\n",
      "54 million events processed\n",
      "------------------------------------------\n",
      "------------------------------------------\n",
      "55 million events processed\n",
      "------------------------------------------\n",
      "------------------------------------------\n",
      "56 million events processed\n",
      "------------------------------------------\n",
      "------------------------------------------\n",
      "57 million events processed\n",
      "------------------------------------------\n",
      "------------------------------------------\n",
      "58 million events processed\n",
      "------------------------------------------\n",
      "------------------------------------------\n",
      "59 million events processed\n",
      "------------------------------------------\n",
      "------------------------------------------\n",
      "60 million events processed\n",
      "------------------------------------------\n",
      "------------------------------------------\n",
      "61 million events processed\n",
      "------------------------------------------\n",
      "------------------------------------------\n",
      "62 million events processed\n",
      "------------------------------------------\n",
      "------------------------------------------\n",
      "63 million events processed\n",
      "------------------------------------------\n",
      "Running over data...\n",
      "Number entries: 12205790\n",
      "------------------------------------------\n",
      "1 million events processed\n",
      "------------------------------------------\n",
      "------------------------------------------\n",
      "2 million events processed\n",
      "------------------------------------------\n",
      "------------------------------------------\n",
      "3 million events processed\n",
      "------------------------------------------\n",
      "------------------------------------------\n",
      "4 million events processed\n",
      "------------------------------------------\n",
      "------------------------------------------\n",
      "5 million events processed\n",
      "------------------------------------------\n",
      "------------------------------------------\n",
      "6 million events processed\n",
      "------------------------------------------\n",
      "------------------------------------------\n",
      "7 million events processed\n",
      "------------------------------------------\n",
      "------------------------------------------\n",
      "8 million events processed\n",
      "------------------------------------------\n",
      "------------------------------------------\n",
      "9 million events processed\n",
      "------------------------------------------\n"
     ]
    },
    {
     "name": "stdout",
     "output_type": "stream",
     "text": [
      "------------------------------------------\n",
      "10 million events processed\n",
      "------------------------------------------\n",
      "------------------------------------------\n",
      "11 million events processed\n",
      "------------------------------------------\n",
      "------------------------------------------\n",
      "12 million events processed\n",
      "------------------------------------------\n",
      "Done!\n"
     ]
    }
   ],
   "source": [
    "// Reset histograms (in case you have filled them before) \n",
    "for(const auto & i:dataset_IDs){ \n",
    "    hist_mll[i]->Reset(); \n",
    "    hist_lep_pt[i]->Reset(); \n",
    "    hist_met[i]->Reset();\n",
    "}\n",
    "\n",
    "hist_mll_d->Reset();\n",
    "hist_lep_pt_d->Reset(); \n",
    "hist_met_d->Reset(); \n",
    "\n",
    "\n",
    "\n",
    "// Loop through all events in background and data separately\n",
    "for(isData = 0; isData<2; isData++){\n",
    "    if(isData == 1){\n",
    "        nentries = data->GetEntries();\n",
    "        dataset = data;\n",
    "        cout << \"Running over data...\" << endl; \n",
    "        cout << \"Number entries: \" << nentries << endl;\n",
    "    }\n",
    "    else {\n",
    "        nentries = background->GetEntries();\n",
    "        dataset = background;\n",
    "        cout << \"Running over background...\" << endl;\n",
    "        cout << \"Number entries: \" << nentries << endl;\n",
    "    }\n",
    "\n",
    "    //running over all events within data and background\n",
    "    for (int i = 0; i < nentries; i++){    //i<nentries \n",
    "        if(i%1000000 == 0 && i>0){ cout << \"------------------------------------------\" << endl;}\n",
    "        if(i%1000000 == 0 && i>0){ cout << i/1000000 << \" million events processed\" << endl;}\n",
    "        if(i%1000000 == 0 && i>0){ cout << \"------------------------------------------\" << endl;}\n",
    "\n",
    "         // We \"pull out\" the i'th entry in the chain. The variables are now \n",
    "         // available through the names we have given them.\n",
    "        dataset->GetEntry(i);\n",
    "    \n",
    "        \n",
    "        // Preselection (variables are stored in the TTree with unit MeV, so we need to divide by 1000 \n",
    "        // to get GeV, which is a more practical and commonly used unit):\n",
    "\n",
    "        \n",
    "        // Cut #1: Require (exactly) 2 leptons\n",
    "        if(lep_n != 2){ continue; }\n",
    "        // Cut #2: Require same flavour (2 electrons or 2 muons)\n",
    "        if(*lep_type[0] != *lep_type[1]){ continue; }\n",
    "\n",
    "        // Set Lorentz vectors\n",
    "        l1.SetPtEtaPhiE(*lep_pt[0]/1000., *lep_eta[0], *lep_phi[0], *lep_E[0]/1000.);\n",
    "        l2.SetPtEtaPhiE(*lep_pt[1]/1000., *lep_eta[1], *lep_phi[1], *lep_E[1]/1000.);\n",
    "\n",
    "        // Cut #3: Cut on z_0 impact parameter\n",
    "        if( fabs(*lep_z0[0]*TMath::Sin(l1.Theta())) > 0.5 ){ continue; }\n",
    "        if( fabs(*lep_z0[1]*TMath::Sin(l2.Theta())) > 0.5 ){ continue; }\n",
    "\n",
    "        // Cut #4: Lepton isolation cuts\n",
    "        if( *lep_ptcone30[0]/(*lep_pt[0]) > 0.15 ){ continue; }\n",
    "        if( *lep_ptcone30[1]/(*lep_pt[1]) > 0.15 ){ continue; }\n",
    "\n",
    "        if( *lep_etcone20[0]/(*lep_pt[0]) > 0.15 ){ continue; }\n",
    "        if( *lep_etcone20[1]/(*lep_pt[1]) > 0.15 ){ continue; }\n",
    "\n",
    "        if( *lep_etcone20[0]/(*lep_pt[0]) < -0.1 || *lep_etcone20[0]/(*lep_pt[0]) > 0.2 ){ continue; } // || = or operator\n",
    "        if( *lep_etcone20[1]/(*lep_pt[1]) < -0.1 || *lep_etcone20[1]/(*lep_pt[1]) > 0.2 ){ continue; } // || = or operator\n",
    "\n",
    "        if( *lep_pt[0]/1000.0 < 30 ){ continue; }        \n",
    "        if( *lep_pt[1]/1000.0 < 30 ){ continue; }       \n",
    "       \n",
    "        // Identify leptons\n",
    "        if( fabs(*lep_type[0]) == 11 ){ channel = \"ee\"; }\n",
    "        if( fabs(*lep_type[0]) == 13 ){ channel = \"uu\"; }\n",
    "        \n",
    "        \n",
    "        //Cuts on individual muons and electrons:       \n",
    "        // Electrons\n",
    "        if( channel == \"ee\")){\n",
    "            if( fabs(*lep_eta[0]) > 2.47 ){ continue; }\n",
    "            if( fabs(*lep_eta[0]) > 1.37 && abs(*lep_eta[0]) < 1.52){ continue; }\n",
    "            if( *lep_E[0]/1000.0 < 30 ){ continue; }\n",
    "            if( fabs(*lep_trackd0pvunbiased[0]/(*lep_tracksigd0pvunbiased[0])) > 5 ){ continue; }\n",
    "\n",
    "            if( *lep_E[1]/1000.0 < 30 ){ continue; }\n",
    "            if( fabs(*lep_eta[1]) > 2.47 ){ continue; }\n",
    "            if( fabs(*lep_eta[1]) > 1.37 && abs(*lep_eta[1]) < 1.52){ continue; }\n",
    "            if( fabs(*lep_trackd0pvunbiased[1]/(*lep_tracksigd0pvunbiased[1])) > 5 ){ continue; }\n",
    "        }\n",
    "\n",
    "        // Muons\n",
    "        if( channel == \"uu\")){\n",
    "            // Require opposite charge\n",
    "            if(*lep_charge[0] == *lep_charge[1]){ continue; }\n",
    "\n",
    "            if( *lep_pt[0]/1000.0 < 30 ){ continue; }  //25 GeV = standard cut for triggers for good accuracy\n",
    "            if( fabs(*lep_eta[0]) > 2.5 ){ continue; }\n",
    "            if( fabs(*lep_eta[0]) > 1.01 && abs(*lep_eta[0]) < 1.1){ continue; }\n",
    "            if( fabs(*lep_trackd0pvunbiased[0]/(*lep_tracksigd0pvunbiased[0])) > 3 ){ continue; }\n",
    "\n",
    "            if( *lep_pt[1]/1000.0 < 30 ){ continue; }\n",
    "            if( fabs(*lep_eta[1]) > 2.5 ){ continue; }\n",
    "            if( fabs(*lep_eta[1]) > 1.01 && abs(*lep_eta[1]) < 1.1){ continue; }\n",
    "            if( fabs(*lep_trackd0pvunbiased[1]/(*lep_tracksigd0pvunbiased[1])) > 3 ){ continue; }\n",
    "        }\n",
    "\n",
    "        // If an event passes all criterias above then obtain invariant mass, pT and missing transverse E\n",
    "               \n",
    "        dileptons = l1 + l2;\n",
    "        if (dileptons.M() < 80){ continue; }\n",
    "        \n",
    "        if(isData == 1)\n",
    "        {\n",
    "            hist_mll_d->Fill(dileptons.M());\n",
    "            hist_lep_pt_d->Fill(l1.Pt());\n",
    "            hist_lep_pt_d->Fill(l2.Pt()); \n",
    "            hist_met_d->Fill(met_et/1000.); \n",
    "        }\n",
    "        \n",
    "        else\n",
    "        {\n",
    "            j++;\n",
    "            DSIDs.push_back(channelNumber);\n",
    "            \n",
    "            // Count number of events included in plotting within each background and signal\n",
    "            if(std::find(Zjets.begin(), Zjets.end(), channelNumber) != Zjets.end()){zjets++; }\n",
    "            if(std::find(ttbar.begin(), ttbar.end(), channelNumber) != ttbar.end()){Ttbar++; }\n",
    "            if(std::find(graviton.begin(), graviton.end(), channelNumber) != graviton.end()){gravitons++; }\n",
    "            if(std::find(Zprime.begin(), Zprime.end(), channelNumber) != Zprime.end()){zprime++; }\n",
    "            if(std::find(Dibosons.begin(), Dibosons.end(), channelNumber) != Dibosons.end()){dibosons++; }\n",
    "\n",
    "            // Scaling\n",
    "            W = (XSection*L/SumWeights)*mcWeight*scaleFactor_PILEUP*scaleFactor_ELE*scaleFactor_MUON*scaleFactor_BTAG*scaleFactor_lepTRIGGER; // *scaleFactor_JVFSF*scaleFactor_ZVERTEX; \n",
    "\n",
    "            // Fill histograms\n",
    "            // (signal + background)\n",
    "            hist_mll_sb->Fill(dileptons.M(), W);\n",
    "            hist_lep_pt_sb->Fill(l1.Pt(), W);\n",
    "            hist_lep_pt_sb->Fill(l2.Pt(), W);\n",
    "            hist_met_sb->Fill(met_et/1000., W);\n",
    "            \n",
    "            // (background)\n",
    "            hist_mll[channelNumber]->Fill(dileptons.M(), W);\n",
    "            hist_lep_pt[channelNumber]->Fill(l1.Pt(), W);\n",
    "            hist_lep_pt[channelNumber]->Fill(l2.Pt(), W);\n",
    "            hist_met[channelNumber]->Fill(met_et/1000., W);            \n",
    "        }\n",
    "    }\n",
    "}\n",
    "cout << \"Done!\" << endl;"
   ]
  },
  {
   "cell_type": "code",
   "execution_count": 21,
   "metadata": {},
   "outputs": [
    {
     "name": "stdout",
     "output_type": "stream",
     "text": [
      "zjets: 1374322, ttbar: 15781, gravitons: 5126, Zprime: 0, dibosons: 655949, tt: 0\n",
      "DSIDs size: 2051179\n"
     ]
    }
   ],
   "source": [
    "cout << \"zjets: \" << zjets << \", ttbar: \" << Ttbar << \", gravitons: \" << gravitons << \", Zprime: \" << zprime << \", dibosons: \" << dibosons << \", tt: \" << Tt << endl;\n",
    "cout << \"DSIDs size: \" << DSIDs.size() <<  endl;"
   ]
  },
  {
   "cell_type": "markdown",
   "metadata": {},
   "source": [
    "### Background event histograms\n",
    "Assigning backgrounds according to their dataset ID's."
   ]
  },
  {
   "cell_type": "code",
   "execution_count": 22,
   "metadata": {},
   "outputs": [],
   "source": [
    "/*\n",
    "\n",
    "3. Assign DSID histograms to corresponding background event histograms.\n",
    "\n",
    "Make a new set of histograms, each corresponding to the different background categories, instead of the unique\n",
    "dataset IDs. These histograms are made with the same range and binnings as above.\n",
    "*/\n",
    "map<TString, TH1*> H_mll; \n",
    "map<TString, TH1*> H_lep_pt;\n",
    "map<TString, TH1*> H_met;"
   ]
  },
  {
   "cell_type": "code",
   "execution_count": 23,
   "metadata": {},
   "outputs": [],
   "source": [
    "vector<TString> Backgrounds;"
   ]
  },
  {
   "cell_type": "markdown",
   "metadata": {},
   "source": [
    "Adjusting the order of backgrounds according to how many events have been generated for each, in an ascending order."
   ]
  },
  {
   "cell_type": "code",
   "execution_count": 24,
   "metadata": {},
   "outputs": [],
   "source": [
    "// Must define the proper backgrounds for this dataset\n",
    "Backgrounds = {\"ttbar\", \"Dibosons\", \"Z+jets\"};"
   ]
  },
  {
   "cell_type": "code",
   "execution_count": 25,
   "metadata": {},
   "outputs": [
    {
     "name": "stdout",
     "output_type": "stream",
     "text": [
      "Background: ttbar\n",
      "Background: Dibosons\n",
      "Background: Z+jets\n"
     ]
    }
   ],
   "source": [
    "for(const auto & i:Backgrounds){\n",
    "    cout << \"Background: \" << i << endl;\n",
    "    H_mll[i] = new TH1F();\n",
    "    H_lep_pt[i] = new TH1F(); \n",
    "    H_met[i] = new TH1F();\n",
    "}\n",
    "\n",
    "// Reset histograms (in case you have filled them before) \n",
    "for(const auto i:Backgrounds){\n",
    "    H_mll[i]->Reset();\n",
    "    H_lep_pt[i]->Reset();\n",
    "    H_met[i]->Reset();\n",
    "}\n"
   ]
  },
  {
   "cell_type": "code",
   "execution_count": 26,
   "metadata": {},
   "outputs": [],
   "source": [
    "// Define properties of background histograms\n",
    "for(const auto & i:Backgrounds){\n",
    "    H_mll[i]->SetNameTitle(\"hist_mll\", \"Invariant mass\");\n",
    "    H_lep_pt[i]->SetNameTitle(\"hist_lep_pt\", \"Lepton pT\");\n",
    "    H_met[i]->SetNameTitle(\"hist_met\", \"Missing ET\");\n",
    "    H_mll[i]->SetBins(50,0,5000); \n",
    "    H_lep_pt[i]->SetBins(50,0,1000);\n",
    "    H_met[i]->SetBins(50,0,5000);\n",
    "}"
   ]
  },
  {
   "cell_type": "code",
   "execution_count": 27,
   "metadata": {},
   "outputs": [],
   "source": [
    "for(const auto i:dataset_IDs){\n",
    "    if (std::find(ttbar.begin(), ttbar.end(), i) != ttbar.end()){\n",
    "        H_mll[\"ttbar\"]->Add(hist_mll[i]); \n",
    "        H_lep_pt[\"ttbar\"]->Add(hist_lep_pt[i]);\n",
    "        H_met[\"ttbar\"]->Add(hist_met[i]);\n",
    "//        cout << \"Found \" << i << \" in ttbar\" << \"\\n\";\n",
    "    }\n",
    "    else if(std::find(Dibosons.begin(), Dibosons.end(), i) != Dibosons.end()){\n",
    "        H_mll[\"Dibosons\"]->Add(hist_mll[i]); \n",
    "        H_lep_pt[\"Dibosons\"]->Add(hist_lep_pt[i]);\n",
    "        H_met[\"Dibosons\"]->Add(hist_met[i]);\n",
    "//        cout << \"Found \" << i << \" in Dibosons\" << \"\\n\"; \n",
    "    }\n",
    "\n",
    "    else if(std::find(Zjets.begin(), Zjets.end(), i) != Zjets.end()){\n",
    "        H_mll[\"Z+jets\"]->Add(hist_mll[i]);\n",
    "        H_lep_pt[\"Z+jets\"]->Add(hist_lep_pt[i]);\n",
    "        H_met[\"Z+jets\"]->Add(hist_met[i]);\n",
    "//        cout << \"Found \" << i << \" in Zjets\" << \"\\n\"; \n",
    "    }\n",
    "\n",
    "}\n"
   ]
  },
  {
   "cell_type": "code",
   "execution_count": 28,
   "metadata": {},
   "outputs": [],
   "source": [
    "//Making new map containing the colours wanted for each background process, and set the colours of the histogram\n",
    "\n",
    "map<TString, Int_t> colors;\n",
    "\n",
    "colors[\"graviton\"] = 860; //kAzure;\n",
    "colors[\"ttbar\"] = 632; //kRed;\n",
    "colors[\"Zprime\"] = 840; //kTeal;\n",
    "colors[\"Dibosons\"] = 416; //kGreen;\n",
    "colors[\"Z+jets\"] = 400; //kYellow; \n",
    "\n",
    "for(const auto h:Backgrounds){\n",
    "    H_mll[h]->SetFillColor(colors[h]); \n",
    "    H_met[h]->SetFillColor(colors[h]);\n",
    "    H_lep_pt[h]->SetFillColor(colors[h]);\n",
    "    \n",
    "    H_mll[h]->SetLineColor(colors[h]); \n",
    "    H_met[h]->SetLineColor(colors[h]);\n",
    "    H_lep_pt[h]->SetLineColor(colors[h]);\n",
    "}"
   ]
  },
  {
   "cell_type": "code",
   "execution_count": 29,
   "metadata": {},
   "outputs": [],
   "source": [
    "/*\n",
    "\n",
    "4. Stack the background histograms\n",
    "\n",
    "For each variable we need to stack the backgrounds on top of each other, which is done by using the THStack class. \n",
    "In the example below we do this for two variables; invariant mass and missing ET.\n",
    "\n",
    "*/\n",
    "\n",
    "THStack *stack_mll = new THStack(\"Invariant mass\", \"\");\n",
    "THStack *stack_met = new THStack(\"Missing ET\", \"\"); \n",
    "THStack *stack_lep_pt = new THStack(\"Lepton pT\", \"\");\n",
    "\n",
    "for(const auto h:Backgrounds){\n",
    "    // Remove previously stacked histograms  \n",
    "    stack_mll->RecursiveRemove(H_mll[h]);\n",
    "    stack_met->RecursiveRemove(H_met[h]);\n",
    "    stack_lep_pt->RecursiveRemove(H_lep_pt[h]);\n",
    "\n",
    "    //Add new stacked histograms\n",
    "    stack_mll->Add(H_mll[h]);\n",
    "    stack_met->Add(H_met[h]);\n",
    "    stack_lep_pt->Add(H_lep_pt[h]); \n",
    "}\n"
   ]
  },
  {
   "cell_type": "markdown",
   "metadata": {},
   "source": [
    "### Background + signal histogram\n",
    "Add all background events (Z, W, dibosons and jets) to signal (graviton)."
   ]
  },
  {
   "cell_type": "code",
   "execution_count": 43,
   "metadata": {},
   "outputs": [
    {
     "name": "stderr",
     "output_type": "stream",
     "text": [
      "\u001b[1minput_line_120:3:10: \u001b[0m\u001b[0;1;31merror: \u001b[0m\u001b[1mredefinition of 'leg'\u001b[0m\n",
      "TLegend *leg = new TLegend(0.65, 0.60, 0.9, 0.85);\n",
      "\u001b[0;1;32m         ^\n",
      "\u001b[0m\u001b[1minput_line_81:3:10: \u001b[0m\u001b[0;1;30mnote: \u001b[0mprevious definition is here\u001b[0m\n",
      "TLegend *leg = new TLegend(0.65, 0.60, 0.9, 0.85);\n",
      "\u001b[0;1;32m         ^\n",
      "\u001b[0m"
     ]
    }
   ],
   "source": [
    "gStyle->SetLegendBorderSize(0); // Remove (default) border around legend\n",
    "TLegend *leg = new TLegend(0.65, 0.60, 0.9, 0.85);"
   ]
  },
  {
   "cell_type": "code",
   "execution_count": 31,
   "metadata": {},
   "outputs": [],
   "source": [
    "leg->Clear();\n",
    "leg->AddEntry(hist_mll_sb, \"Graviton+background\", \"f\");\n",
    "\n",
    "// Add your histograms to the legend\n",
    "for(const auto i:Backgrounds){\n",
    "    leg->AddEntry(H_mll[i], i, \"f\");  \n",
    "}\n",
    "leg->AddEntry(hist_mll_d, \"Data\", \"lep\");"
   ]
  },
  {
   "cell_type": "code",
   "execution_count": 32,
   "metadata": {},
   "outputs": [],
   "source": [
    "TCanvas *C = new TCanvas(\"c\", \"c\", 600, 600);\n",
    "gPad->SetLogy(); // Set logarithmic y-axis"
   ]
  },
  {
   "cell_type": "code",
   "execution_count": 33,
   "metadata": {},
   "outputs": [],
   "source": [
    "hist_mll_d->SetLineColor(kBlack);\n",
    "hist_mll_d->SetMarkerStyle(kFullCircle);\n",
    "hist_mll_d->SetMarkerColor(kBlack);"
   ]
  },
  {
   "cell_type": "code",
   "execution_count": 34,
   "metadata": {},
   "outputs": [],
   "source": [
    "hist_mll_sb->SetFillColor(860); //kAzure"
   ]
  },
  {
   "cell_type": "markdown",
   "metadata": {},
   "source": [
    "If there are less statistics, then it is more likely that the MC samples and real data will differ as \n",
    "MC predicts the amount of events one can expect at a certain range of e.g. m_ll. As long as the number of \n",
    "events of MC and real data do not differ too much at high statistics, e.g. 10^6 events,\n",
    "then MC is correct. If they do, then there is something wrong with the theory modelling the MC."
   ]
  },
  {
   "cell_type": "code",
   "execution_count": 35,
   "metadata": {},
   "outputs": [
    {
     "data": {
      "image/png": "[encoded data removed]",
      "text/plain": [
       "<IPython.core.display.Image object>"
      ]
     },
     "metadata": {},
     "output_type": "display_data"
    }
   ],
   "source": [
    "hist_mll_sb->Draw(\"hist\");\n",
    "hist_mll_sb->SetMaximum(1E6);     //set maximum range on axis\n",
    "hist_mll_sb->SetMinimum(1e-2);\n",
    "hist_mll_sb->GetXaxis()->SetLimits(0, 5000);\n",
    "hist_mll_sb->GetYaxis()->SetTitle(\"# events\");\n",
    "hist_mll_sb->GetYaxis()->SetTitleOffset(1.3);\n",
    "hist_mll_sb->GetXaxis()->SetTitle(\"m_{ll} (GeV)\");\n",
    "hist_mll_sb->GetXaxis()->SetTitleOffset(1.3);\n",
    "stack_mll->Draw(\"same AH\");\n",
    "hist_mll_d->Draw(\"same E\");\n",
    "leg->Draw();\n",
    "C->Draw();\n"
   ]
  },
  {
   "cell_type": "code",
   "execution_count": 36,
   "metadata": {},
   "outputs": [],
   "source": [
    "hist_met_d->SetLineColor(kBlack);\n",
    "hist_met_d->SetMarkerStyle(kFullCircle);\n",
    "hist_met_d->SetMarkerColor(kBlack);"
   ]
  },
  {
   "cell_type": "code",
   "execution_count": 37,
   "metadata": {},
   "outputs": [],
   "source": [
    "hist_met_sb->SetFillColor(860);  //kAzure"
   ]
  },
  {
   "cell_type": "code",
   "execution_count": 38,
   "metadata": {},
   "outputs": [
    {
     "data": {
      "image/png": "[encoded data removed]",
      "text/plain": [
       "<IPython.core.display.Image object>"
      ]
     },
     "metadata": {},
     "output_type": "display_data"
    }
   ],
   "source": [
    "hist_met_sb->Draw(\"hist\"); \n",
    "hist_met_sb->SetMaximum(1E6);\n",
    "hist_met_sb->SetMinimum(1E-2); \n",
    "hist_met_sb->GetYaxis()->SetTitle(\"# events\");\n",
    "hist_met_sb->GetYaxis()->SetTitleOffset(1.3); \n",
    "hist_met_sb->GetXaxis()->SetTitle(\"E_{T}^{miss} (GeV)\");\n",
    "hist_met_sb->GetXaxis()->SetTitleOffset(1.3);\n",
    "stack_met->Draw(\"same AH\");\n",
    "hist_met_d->Draw(\"same e\");\n",
    "leg->Draw();\n",
    "C->Draw();\n",
    "\n",
    "/*\n",
    "Often more difficult to model E_miss\n",
    "*/"
   ]
  },
  {
   "cell_type": "code",
   "execution_count": 39,
   "metadata": {},
   "outputs": [],
   "source": [
    "hist_lep_pt_d->SetLineColor(kBlack); \n",
    "hist_lep_pt_d->SetMarkerStyle(kFullCircle); \n",
    "hist_lep_pt_d->SetMarkerColor(kBlack);"
   ]
  },
  {
   "cell_type": "code",
   "execution_count": 40,
   "metadata": {},
   "outputs": [],
   "source": [
    "hist_lep_pt_sb->SetFillColor(860); //kAzure"
   ]
  },
  {
   "cell_type": "code",
   "execution_count": 41,
   "metadata": {},
   "outputs": [
    {
     "data": {
      "image/png": "[encoded data removed]",
      "text/plain": [
       "<IPython.core.display.Image object>"
      ]
     },
     "metadata": {},
     "output_type": "display_data"
    }
   ],
   "source": [
    "hist_lep_pt_sb->Draw(\"hist\"); \n",
    "hist_lep_pt_sb->SetMaximum(1E6); \n",
    "hist_lep_pt_sb->GetYaxis()->SetTitle(\"# events\");\n",
    "hist_lep_pt_sb->GetYaxis()->SetTitleOffset(1.3); \n",
    "hist_lep_pt_sb->GetXaxis()->SetTitle(\"p_{T} (GeV)\");\n",
    "hist_lep_pt_sb->GetXaxis()->SetTitleOffset(1.3);\n",
    "stack_lep_pt->Draw(\"same AH\");\n",
    "hist_lep_pt_d->Draw(\"same e\"); \n",
    "leg->Draw();\n",
    "C->Draw();\n",
    "\n",
    "/*\n",
    "natural to also include ratio of events between data/MC --> Add another pad to the canvas including this!\n",
    "*/"
   ]
  },
  {
   "cell_type": "code",
   "execution_count": 42,
   "metadata": {},
   "outputs": [],
   "source": [
    "//cout << \"Dibosons H_met: \" << H_met.GetEntries() << \" entries\"<< endl;"
   ]
  },
  {
   "cell_type": "code",
   "execution_count": null,
   "metadata": {},
   "outputs": [],
   "source": []
  },
  {
   "cell_type": "code",
   "execution_count": null,
   "metadata": {},
   "outputs": [],
   "source": []
  }
 ],
 "metadata": {
  "kernelspec": {
   "display_name": "ROOT C++",
   "language": "c++",
   "name": "root"
  },
  "language_info": {
   "codemirror_mode": "text/x-c++src",
   "file_extension": ".C",
   "mimetype": " text/x-c++src",
   "name": "c++"
  }
 },
 "nbformat": 4,
 "nbformat_minor": 2
}
